{
 "cells": [
  {
   "cell_type": "code",
   "execution_count": 1,
   "metadata": {},
   "outputs": [],
   "source": [
    "#99%matplotlib inline\n",
    "import pandas as pd"
   ]
  },
  {
   "cell_type": "code",
   "execution_count": 2,
   "metadata": {},
   "outputs": [
    {
     "data": {
      "text/html": [
       "<div>\n",
       "<style scoped>\n",
       "    .dataframe tbody tr th:only-of-type {\n",
       "        vertical-align: middle;\n",
       "    }\n",
       "\n",
       "    .dataframe tbody tr th {\n",
       "        vertical-align: top;\n",
       "    }\n",
       "\n",
       "    .dataframe thead th {\n",
       "        text-align: right;\n",
       "    }\n",
       "</style>\n",
       "<table border=\"1\" class=\"dataframe\">\n",
       "  <thead>\n",
       "    <tr style=\"text-align: right;\">\n",
       "      <th></th>\n",
       "      <th>title</th>\n",
       "      <th>year</th>\n",
       "      <th>name</th>\n",
       "      <th>type</th>\n",
       "      <th>character</th>\n",
       "      <th>n</th>\n",
       "    </tr>\n",
       "  </thead>\n",
       "  <tbody>\n",
       "    <tr>\n",
       "      <th>0</th>\n",
       "      <td>Closet Monster</td>\n",
       "      <td>2015</td>\n",
       "      <td>Buffy #1</td>\n",
       "      <td>actor</td>\n",
       "      <td>Buffy 4</td>\n",
       "      <td>NaN</td>\n",
       "    </tr>\n",
       "    <tr>\n",
       "      <th>1</th>\n",
       "      <td>Suuri illusioni</td>\n",
       "      <td>1985</td>\n",
       "      <td>Homo $</td>\n",
       "      <td>actor</td>\n",
       "      <td>Guests</td>\n",
       "      <td>22.0</td>\n",
       "    </tr>\n",
       "    <tr>\n",
       "      <th>2</th>\n",
       "      <td>Battle of the Sexes</td>\n",
       "      <td>2017</td>\n",
       "      <td>$hutter</td>\n",
       "      <td>actor</td>\n",
       "      <td>Bobby Riggs Fan</td>\n",
       "      <td>10.0</td>\n",
       "    </tr>\n",
       "    <tr>\n",
       "      <th>3</th>\n",
       "      <td>Secret in Their Eyes</td>\n",
       "      <td>2015</td>\n",
       "      <td>$hutter</td>\n",
       "      <td>actor</td>\n",
       "      <td>2002 Dodger Fan</td>\n",
       "      <td>NaN</td>\n",
       "    </tr>\n",
       "    <tr>\n",
       "      <th>4</th>\n",
       "      <td>Steve Jobs</td>\n",
       "      <td>2015</td>\n",
       "      <td>$hutter</td>\n",
       "      <td>actor</td>\n",
       "      <td>1988 Opera House Patron</td>\n",
       "      <td>NaN</td>\n",
       "    </tr>\n",
       "  </tbody>\n",
       "</table>\n",
       "</div>"
      ],
      "text/plain": [
       "                  title  year      name   type                character     n\n",
       "0        Closet Monster  2015  Buffy #1  actor                  Buffy 4   NaN\n",
       "1       Suuri illusioni  1985    Homo $  actor                   Guests  22.0\n",
       "2   Battle of the Sexes  2017   $hutter  actor          Bobby Riggs Fan  10.0\n",
       "3  Secret in Their Eyes  2015   $hutter  actor          2002 Dodger Fan   NaN\n",
       "4            Steve Jobs  2015   $hutter  actor  1988 Opera House Patron   NaN"
      ]
     },
     "execution_count": 2,
     "metadata": {},
     "output_type": "execute_result"
    }
   ],
   "source": [
    "cast = pd.read_csv('cast.csv')\n",
    "cast.head()"
   ]
  },
  {
   "cell_type": "markdown",
   "metadata": {
    "collapsed": true
   },
   "source": [
    "### How many movies are listed in the titles dataframe?"
   ]
  },
  {
   "cell_type": "code",
   "execution_count": 8,
   "metadata": {},
   "outputs": [
    {
     "name": "stdout",
     "output_type": "stream",
     "text": [
      "<class 'pandas.core.frame.DataFrame'>\n",
      "RangeIndex: 3611212 entries, 0 to 3611211\n",
      "Data columns (total 6 columns):\n",
      " #   Column     Dtype  \n",
      "---  ------     -----  \n",
      " 0   title      object \n",
      " 1   year       int64  \n",
      " 2   name       object \n",
      " 3   type       object \n",
      " 4   character  object \n",
      " 5   n          float64\n",
      "dtypes: float64(1), int64(1), object(4)\n",
      "memory usage: 165.3+ MB\n"
     ]
    }
   ],
   "source": [
    "cast.info()"
   ]
  },
  {
   "cell_type": "code",
   "execution_count": 9,
   "metadata": {},
   "outputs": [
    {
     "data": {
      "text/html": [
       "<div>\n",
       "<style scoped>\n",
       "    .dataframe tbody tr th:only-of-type {\n",
       "        vertical-align: middle;\n",
       "    }\n",
       "\n",
       "    .dataframe tbody tr th {\n",
       "        vertical-align: top;\n",
       "    }\n",
       "\n",
       "    .dataframe thead th {\n",
       "        text-align: right;\n",
       "    }\n",
       "</style>\n",
       "<table border=\"1\" class=\"dataframe\">\n",
       "  <thead>\n",
       "    <tr style=\"text-align: right;\">\n",
       "      <th></th>\n",
       "      <th>title</th>\n",
       "      <th>year</th>\n",
       "      <th>name</th>\n",
       "      <th>type</th>\n",
       "      <th>character</th>\n",
       "      <th>n</th>\n",
       "    </tr>\n",
       "  </thead>\n",
       "  <tbody>\n",
       "    <tr>\n",
       "      <th>0</th>\n",
       "      <td>Closet Monster</td>\n",
       "      <td>2015</td>\n",
       "      <td>Buffy #1</td>\n",
       "      <td>actor</td>\n",
       "      <td>Buffy 4</td>\n",
       "      <td>NaN</td>\n",
       "    </tr>\n",
       "    <tr>\n",
       "      <th>1</th>\n",
       "      <td>Suuri illusioni</td>\n",
       "      <td>1985</td>\n",
       "      <td>Homo $</td>\n",
       "      <td>actor</td>\n",
       "      <td>Guests</td>\n",
       "      <td>22.0</td>\n",
       "    </tr>\n",
       "    <tr>\n",
       "      <th>2</th>\n",
       "      <td>Battle of the Sexes</td>\n",
       "      <td>2017</td>\n",
       "      <td>$hutter</td>\n",
       "      <td>actor</td>\n",
       "      <td>Bobby Riggs Fan</td>\n",
       "      <td>10.0</td>\n",
       "    </tr>\n",
       "    <tr>\n",
       "      <th>3</th>\n",
       "      <td>Secret in Their Eyes</td>\n",
       "      <td>2015</td>\n",
       "      <td>$hutter</td>\n",
       "      <td>actor</td>\n",
       "      <td>2002 Dodger Fan</td>\n",
       "      <td>NaN</td>\n",
       "    </tr>\n",
       "    <tr>\n",
       "      <th>4</th>\n",
       "      <td>Steve Jobs</td>\n",
       "      <td>2015</td>\n",
       "      <td>$hutter</td>\n",
       "      <td>actor</td>\n",
       "      <td>1988 Opera House Patron</td>\n",
       "      <td>NaN</td>\n",
       "    </tr>\n",
       "    <tr>\n",
       "      <th>...</th>\n",
       "      <td>...</td>\n",
       "      <td>...</td>\n",
       "      <td>...</td>\n",
       "      <td>...</td>\n",
       "      <td>...</td>\n",
       "      <td>...</td>\n",
       "    </tr>\n",
       "    <tr>\n",
       "      <th>3611207</th>\n",
       "      <td>Foxtrot</td>\n",
       "      <td>1988</td>\n",
       "      <td>Lilja ??risd?ttir</td>\n",
       "      <td>actress</td>\n",
       "      <td>D?ra</td>\n",
       "      <td>24.0</td>\n",
       "    </tr>\n",
       "    <tr>\n",
       "      <th>3611208</th>\n",
       "      <td>Niceland (Population. 1.000.002)</td>\n",
       "      <td>2004</td>\n",
       "      <td>Sigr??ur J?na ??risd?ttir</td>\n",
       "      <td>actress</td>\n",
       "      <td>Woman in Bus</td>\n",
       "      <td>26.0</td>\n",
       "    </tr>\n",
       "    <tr>\n",
       "      <th>3611209</th>\n",
       "      <td>Skammdegi</td>\n",
       "      <td>1985</td>\n",
       "      <td>Dalla ??r?ard?ttir</td>\n",
       "      <td>actress</td>\n",
       "      <td>Hj?krunarkona</td>\n",
       "      <td>9.0</td>\n",
       "    </tr>\n",
       "    <tr>\n",
       "      <th>3611210</th>\n",
       "      <td>U.S.S.S.S...</td>\n",
       "      <td>2003</td>\n",
       "      <td>Krist?n Andrea ??r?ard?ttir</td>\n",
       "      <td>actress</td>\n",
       "      <td>Afgr.dama ? bens?nst??</td>\n",
       "      <td>17.0</td>\n",
       "    </tr>\n",
       "    <tr>\n",
       "      <th>3611211</th>\n",
       "      <td>Bye Bye Blue Bird</td>\n",
       "      <td>1999</td>\n",
       "      <td>Rosa ? R?gvu</td>\n",
       "      <td>actress</td>\n",
       "      <td>Pensionatv?rtinde</td>\n",
       "      <td>NaN</td>\n",
       "    </tr>\n",
       "  </tbody>\n",
       "</table>\n",
       "<p>3611212 rows × 6 columns</p>\n",
       "</div>"
      ],
      "text/plain": [
       "                                    title  year                         name  \\\n",
       "0                          Closet Monster  2015                     Buffy #1   \n",
       "1                         Suuri illusioni  1985                       Homo $   \n",
       "2                     Battle of the Sexes  2017                      $hutter   \n",
       "3                    Secret in Their Eyes  2015                      $hutter   \n",
       "4                              Steve Jobs  2015                      $hutter   \n",
       "...                                   ...   ...                          ...   \n",
       "3611207                           Foxtrot  1988            Lilja ??risd?ttir   \n",
       "3611208  Niceland (Population. 1.000.002)  2004    Sigr??ur J?na ??risd?ttir   \n",
       "3611209                         Skammdegi  1985           Dalla ??r?ard?ttir   \n",
       "3611210                      U.S.S.S.S...  2003  Krist?n Andrea ??r?ard?ttir   \n",
       "3611211                 Bye Bye Blue Bird  1999                 Rosa ? R?gvu   \n",
       "\n",
       "            type                character     n  \n",
       "0          actor                  Buffy 4   NaN  \n",
       "1          actor                   Guests  22.0  \n",
       "2          actor          Bobby Riggs Fan  10.0  \n",
       "3          actor          2002 Dodger Fan   NaN  \n",
       "4          actor  1988 Opera House Patron   NaN  \n",
       "...          ...                      ...   ...  \n",
       "3611207  actress                     D?ra  24.0  \n",
       "3611208  actress             Woman in Bus  26.0  \n",
       "3611209  actress            Hj?krunarkona   9.0  \n",
       "3611210  actress   Afgr.dama ? bens?nst??  17.0  \n",
       "3611211  actress        Pensionatv?rtinde   NaN  \n",
       "\n",
       "[3611212 rows x 6 columns]"
      ]
     },
     "execution_count": 9,
     "metadata": {},
     "output_type": "execute_result"
    }
   ],
   "source": [
    "cast # their are 3611212 movie titles in dataframe."
   ]
  },
  {
   "cell_type": "markdown",
   "metadata": {
    "collapsed": true
   },
   "source": [
    "### What are the earliest two films listed in the titles dataframe?"
   ]
  },
  {
   "cell_type": "code",
   "execution_count": 5,
   "metadata": {},
   "outputs": [
    {
     "name": "stdout",
     "output_type": "stream",
     "text": [
      "The earliest two films listed in the 'cast' dataframe:\n",
      "              title  year\n",
      "2514470  Miss Jerry  1894\n",
      "555929   Miss Jerry  1894\n"
     ]
    }
   ],
   "source": [
    "import pandas as pd\n",
    "\n",
    "# Read the CSV file into a DataFrame\n",
    "cast = pd.read_csv('cast.csv')\n",
    "\n",
    "# Assuming the DataFrame has a 'title' and 'year' columns\n",
    "if 'title' in cast.columns and 'year' in cast.columns:\n",
    "    # Sort the dataframe by the 'year' column in ascending order\n",
    "    earliest_films = cast.sort_values(by='year')\n",
    "\n",
    "    # Display the earliest two films\n",
    "    earliest_two_films = earliest_films.head(2)\n",
    "    print(\"The earliest two films listed in the 'cast' dataframe:\")\n",
    "    print(earliest_two_films[['title', 'year']])\n",
    "else:\n",
    "    print(\"The DataFrame does not contain 'title' or 'year' columns.\")\n"
   ]
  },
  {
   "cell_type": "markdown",
   "metadata": {
    "collapsed": true
   },
   "source": [
    "### How many movies have the title \"Hamlet\"?"
   ]
  },
  {
   "cell_type": "code",
   "execution_count": 7,
   "metadata": {},
   "outputs": [
    {
     "name": "stdout",
     "output_type": "stream",
     "text": [
      "Number of movies with the title 'Hamlet': 313\n"
     ]
    }
   ],
   "source": [
    "# Assuming the DataFrame has a 'title' column\n",
    "if 'title' in cast.columns:\n",
    "    # Count the number of occurrences of the title \"Hamlet\"\n",
    "    hamlet_count = cast[cast['title'] == 'Hamlet'].shape[0]\n",
    "\n",
    "    # Display the result\n",
    "    print(f\"Number of movies with the title 'Hamlet': {hamlet_count}\")\n",
    "else:\n",
    "    print(\"The DataFrame does not contain a 'title' column.\")\n"
   ]
  },
  {
   "cell_type": "markdown",
   "metadata": {
    "collapsed": true
   },
   "source": [
    "### How many movies are titled \"North by Northwest\"?"
   ]
  },
  {
   "cell_type": "code",
   "execution_count": 8,
   "metadata": {
    "scrolled": true
   },
   "outputs": [
    {
     "name": "stdout",
     "output_type": "stream",
     "text": [
      "Number of movies with the title 'North by Northwest': 112\n"
     ]
    }
   ],
   "source": [
    "# Assuming the DataFrame has a 'title' column\n",
    "if 'title' in cast.columns:\n",
    "    # Count the number of occurrences of the title \"Hamlet\"\n",
    "    north_by_northwest_count = cast[cast['title'] == 'North by Northwest'].shape[0]\n",
    "\n",
    "    # Display the result\n",
    "    print(f\"Number of movies with the title 'North by Northwest': {north_by_northwest_count}\")\n",
    "else:\n",
    "    print(\"The DataFrame does not contain a 'title' column.\")\n"
   ]
  },
  {
   "cell_type": "code",
   "execution_count": null,
   "metadata": {},
   "outputs": [],
   "source": []
  },
  {
   "cell_type": "markdown",
   "metadata": {
    "collapsed": true
   },
   "source": [
    "### When was the first movie titled \"Hamlet\" made?"
   ]
  },
  {
   "cell_type": "code",
   "execution_count": 10,
   "metadata": {},
   "outputs": [
    {
     "name": "stdout",
     "output_type": "stream",
     "text": [
      "          title  year               name   type character   n\n",
      "1545289  Hamlet  1910  Jean Mounet-Sully  actor    Hamlet NaN\n"
     ]
    }
   ],
   "source": [
    "# Assuming the 'title' and 'year' columns exist in your DataFrame\n",
    "hamlet_movies = cast[cast['title'] == 'Hamlet']\n",
    "\n",
    "# Find the earliest Hamlet movie\n",
    "earliest_hamlet_movie = hamlet_movies[hamlet_movies['year'] == hamlet_movies['year'].min()]\n",
    "\n",
    "# Print information about the earliest Hamlet movie\n",
    "print(earliest_hamlet_movie)\n"
   ]
  },
  {
   "cell_type": "markdown",
   "metadata": {
    "collapsed": true
   },
   "source": [
    "### List all of the \"Treasure Island\" movies from earliest to most recent."
   ]
  },
  {
   "cell_type": "code",
   "execution_count": 11,
   "metadata": {},
   "outputs": [
    {
     "name": "stdout",
     "output_type": "stream",
     "text": [
      "                   title  year                  name     type  \\\n",
      "830114   Treasure Island  1918        Charles Gorman    actor   \n",
      "840745   Treasure Island  1918             Joe Grant    actor   \n",
      "909157   Treasure Island  1918          Edwin Harley    actor   \n",
      "3298306  Treasure Island  1918      Violet Radcliffe  actress   \n",
      "1715014  Treasure Island  1918            Lloyd Perl    actor   \n",
      "...                  ...   ...                   ...      ...   \n",
      "2420089  Treasure Island  1999          Caveh Zahedi    actor   \n",
      "1637661  Treasure Island  1999         Nick Offerman    actor   \n",
      "1375015  Treasure Island  1999           J.P. Manoux    actor   \n",
      "1797264  Treasure Island  1999  Victor Raider-Wexler    actor   \n",
      "307749   Treasure Island  1999          Bob Byington    actor   \n",
      "\n",
      "                       character     n  \n",
      "830114           Prologue Player   NaN  \n",
      "840745   Undetermined child role   NaN  \n",
      "909157           Prologue Player   NaN  \n",
      "3298306         Long John Silver   3.0  \n",
      "1715014                Black Dog   4.0  \n",
      "...                          ...   ...  \n",
      "2420089                   Harold   9.0  \n",
      "1637661                   Samuel   2.0  \n",
      "1375015           Officer Hughes  18.0  \n",
      "1797264                 Samowitz  10.0  \n",
      "307749                    Thomas  12.0  \n",
      "\n",
      "[190 rows x 6 columns]\n"
     ]
    }
   ],
   "source": [
    "# Assuming the 'title' and 'year' columns exist in your DataFrame\n",
    "treasure_island_movies = cast[cast['title'] == 'Treasure Island']\n",
    "\n",
    "# Sort the movies by release year from earliest to most recent\n",
    "sorted_treasure_island_movies = treasure_island_movies.sort_values(by='year')\n",
    "\n",
    "# Print information about the Treasure Island movies\n",
    "print(sorted_treasure_island_movies)"
   ]
  },
  {
   "cell_type": "markdown",
   "metadata": {
    "collapsed": true
   },
   "source": [
    "### How many movies were made in the year 1950?"
   ]
  },
  {
   "cell_type": "code",
   "execution_count": 12,
   "metadata": {},
   "outputs": [
    {
     "name": "stdout",
     "output_type": "stream",
     "text": [
      "The number of movies made in the year 1950 is: 22006\n"
     ]
    }
   ],
   "source": [
    "# Assuming the 'year' column exists in your DataFrame\n",
    "movies_1950 = cast[cast['year'] == 1950]\n",
    "\n",
    "# Get the count of movies made in the year 1950\n",
    "num_movies_1950 = len(movies_1950)\n",
    "\n",
    "# Print the result\n",
    "print(f\"The number of movies made in the year 1950 is: {num_movies_1950}\")"
   ]
  },
  {
   "cell_type": "markdown",
   "metadata": {
    "collapsed": true
   },
   "source": [
    "### How many movies were made in the year 1960?"
   ]
  },
  {
   "cell_type": "code",
   "execution_count": 13,
   "metadata": {},
   "outputs": [
    {
     "name": "stdout",
     "output_type": "stream",
     "text": [
      "The number of movies made in the year 1950 is: 18456\n"
     ]
    }
   ],
   "source": [
    "# Assuming the 'year' column exists in your DataFrame\n",
    "movies_1960 = cast[cast['year'] == 1960]\n",
    "\n",
    "# Get the count of movies made in the year 1960\n",
    "num_movies_1960 = len(movies_1960)\n",
    "\n",
    "# Print the result\n",
    "print(f\"The number of movies made in the year 1950 is: {num_movies_1960}\")"
   ]
  },
  {
   "cell_type": "code",
   "execution_count": null,
   "metadata": {},
   "outputs": [],
   "source": []
  },
  {
   "cell_type": "markdown",
   "metadata": {
    "collapsed": true
   },
   "source": [
    "### How many movies were made from 1950 through 1959?"
   ]
  },
  {
   "cell_type": "code",
   "execution_count": 14,
   "metadata": {},
   "outputs": [
    {
     "name": "stdout",
     "output_type": "stream",
     "text": [
      "The number of movies made from 1950 through 1959 is: 210986\n"
     ]
    }
   ],
   "source": [
    "# Assuming the 'year' column exists in your DataFrame\n",
    "movies_1950s = cast[(cast['year'] >= 1950) & (cast['year'] <= 1959)]\n",
    "\n",
    "# Get the count of movies made from 1950 through 1959\n",
    "num_movies_1950s = len(movies_1950s)\n",
    "\n",
    "# Print the result\n",
    "print(f\"The number of movies made from 1950 through 1959 is: {num_movies_1950s}\")"
   ]
  },
  {
   "cell_type": "markdown",
   "metadata": {
    "collapsed": true
   },
   "source": [
    "### In what years has a movie titled \"Batman\" been released?"
   ]
  },
  {
   "cell_type": "code",
   "execution_count": 20,
   "metadata": {},
   "outputs": [
    {
     "data": {
      "text/html": [
       "<div>\n",
       "<style scoped>\n",
       "    .dataframe tbody tr th:only-of-type {\n",
       "        vertical-align: middle;\n",
       "    }\n",
       "\n",
       "    .dataframe tbody tr th {\n",
       "        vertical-align: top;\n",
       "    }\n",
       "\n",
       "    .dataframe thead th {\n",
       "        text-align: right;\n",
       "    }\n",
       "</style>\n",
       "<table border=\"1\" class=\"dataframe\">\n",
       "  <thead>\n",
       "    <tr style=\"text-align: right;\">\n",
       "      <th></th>\n",
       "      <th>title</th>\n",
       "      <th>year</th>\n",
       "      <th>name</th>\n",
       "      <th>type</th>\n",
       "      <th>character</th>\n",
       "      <th>n</th>\n",
       "    </tr>\n",
       "  </thead>\n",
       "  <tbody>\n",
       "    <tr>\n",
       "      <th>95672</th>\n",
       "      <td>Batman</td>\n",
       "      <td>1943</td>\n",
       "      <td>Frank Austin</td>\n",
       "      <td>actor</td>\n",
       "      <td>Hotel Clerk</td>\n",
       "      <td>NaN</td>\n",
       "    </tr>\n",
       "    <tr>\n",
       "      <th>96186</th>\n",
       "      <td>Batman</td>\n",
       "      <td>1943</td>\n",
       "      <td>William Austin</td>\n",
       "      <td>actor</td>\n",
       "      <td>Alfred Pennyworth</td>\n",
       "      <td>NaN</td>\n",
       "    </tr>\n",
       "    <tr>\n",
       "      <th>258721</th>\n",
       "      <td>Batman</td>\n",
       "      <td>1943</td>\n",
       "      <td>Lynton Brent</td>\n",
       "      <td>actor</td>\n",
       "      <td>Intended Lockwood Pilot</td>\n",
       "      <td>NaN</td>\n",
       "    </tr>\n",
       "    <tr>\n",
       "      <th>287420</th>\n",
       "      <td>Batman</td>\n",
       "      <td>1943</td>\n",
       "      <td>Roy Bucko</td>\n",
       "      <td>actor</td>\n",
       "      <td>Barfly</td>\n",
       "      <td>NaN</td>\n",
       "    </tr>\n",
       "    <tr>\n",
       "      <th>387956</th>\n",
       "      <td>Batman</td>\n",
       "      <td>1943</td>\n",
       "      <td>George Chesebro</td>\n",
       "      <td>actor</td>\n",
       "      <td>Brennan [Ch. 1-3</td>\n",
       "      <td>NaN</td>\n",
       "    </tr>\n",
       "    <tr>\n",
       "      <th>477447</th>\n",
       "      <td>Batman</td>\n",
       "      <td>1943</td>\n",
       "      <td>Douglas Croft</td>\n",
       "      <td>actor</td>\n",
       "      <td>Robin</td>\n",
       "      <td>2.0</td>\n",
       "    </tr>\n",
       "    <tr>\n",
       "      <th>477448</th>\n",
       "      <td>Batman</td>\n",
       "      <td>1943</td>\n",
       "      <td>Douglas Croft</td>\n",
       "      <td>actor</td>\n",
       "      <td>Dick Grayson</td>\n",
       "      <td>2.0</td>\n",
       "    </tr>\n",
       "    <tr>\n",
       "      <th>490035</th>\n",
       "      <td>Batman</td>\n",
       "      <td>1943</td>\n",
       "      <td>Dick Curtis</td>\n",
       "      <td>actor</td>\n",
       "      <td>Agent Croft of Section 50 [Ch. 10-12])</td>\n",
       "      <td>NaN</td>\n",
       "    </tr>\n",
       "    <tr>\n",
       "      <th>575535</th>\n",
       "      <td>Batman</td>\n",
       "      <td>1943</td>\n",
       "      <td>James Dime</td>\n",
       "      <td>actor</td>\n",
       "      <td>Henchman</td>\n",
       "      <td>NaN</td>\n",
       "    </tr>\n",
       "    <tr>\n",
       "      <th>592716</th>\n",
       "      <td>Batman</td>\n",
       "      <td>1943</td>\n",
       "      <td>Lester Dorr</td>\n",
       "      <td>actor</td>\n",
       "      <td>Agent on Plane [Ch. 10</td>\n",
       "      <td>NaN</td>\n",
       "    </tr>\n",
       "    <tr>\n",
       "      <th>612482</th>\n",
       "      <td>Batman</td>\n",
       "      <td>1943</td>\n",
       "      <td>Kenne Duncan</td>\n",
       "      <td>actor</td>\n",
       "      <td>Fred, the Mechanic [Ch. 5-6</td>\n",
       "      <td>NaN</td>\n",
       "    </tr>\n",
       "    <tr>\n",
       "      <th>706534</th>\n",
       "      <td>Batman</td>\n",
       "      <td>1943</td>\n",
       "      <td>Robert Fiske</td>\n",
       "      <td>actor</td>\n",
       "      <td>Foster [Ch. 1-4</td>\n",
       "      <td>NaN</td>\n",
       "    </tr>\n",
       "    <tr>\n",
       "      <th>713064</th>\n",
       "      <td>Batman</td>\n",
       "      <td>1943</td>\n",
       "      <td>Sam Flint</td>\n",
       "      <td>actor</td>\n",
       "      <td>Dr. G.H. Borden [Ch. 1</td>\n",
       "      <td>NaN</td>\n",
       "    </tr>\n",
       "    <tr>\n",
       "      <th>735294</th>\n",
       "      <td>Batman</td>\n",
       "      <td>1943</td>\n",
       "      <td>Jerry Frank</td>\n",
       "      <td>actor</td>\n",
       "      <td>Cave of Horrors Thug</td>\n",
       "      <td>NaN</td>\n",
       "    </tr>\n",
       "    <tr>\n",
       "      <th>746897</th>\n",
       "      <td>Batman</td>\n",
       "      <td>1943</td>\n",
       "      <td>Terry Frost</td>\n",
       "      <td>actor</td>\n",
       "      <td>Male Nurse [Ch. 7</td>\n",
       "      <td>NaN</td>\n",
       "    </tr>\n",
       "    <tr>\n",
       "      <th>772267</th>\n",
       "      <td>Batman</td>\n",
       "      <td>1943</td>\n",
       "      <td>Jack (II) Gardner</td>\n",
       "      <td>actor</td>\n",
       "      <td>Jim Bramwell</td>\n",
       "      <td>NaN</td>\n",
       "    </tr>\n",
       "    <tr>\n",
       "      <th>808898</th>\n",
       "      <td>Batman</td>\n",
       "      <td>1943</td>\n",
       "      <td>Gus Glassmire</td>\n",
       "      <td>actor</td>\n",
       "      <td>Martin Warren</td>\n",
       "      <td>NaN</td>\n",
       "    </tr>\n",
       "    <tr>\n",
       "      <th>880219</th>\n",
       "      <td>Batman</td>\n",
       "      <td>1943</td>\n",
       "      <td>Karl Hackett</td>\n",
       "      <td>actor</td>\n",
       "      <td>Wallace</td>\n",
       "      <td>NaN</td>\n",
       "    </tr>\n",
       "    <tr>\n",
       "      <th>973056</th>\n",
       "      <td>Batman</td>\n",
       "      <td>1943</td>\n",
       "      <td>Earle Hodgins</td>\n",
       "      <td>actor</td>\n",
       "      <td>Joe</td>\n",
       "      <td>NaN</td>\n",
       "    </tr>\n",
       "    <tr>\n",
       "      <th>1007490</th>\n",
       "      <td>Batman</td>\n",
       "      <td>1943</td>\n",
       "      <td>Mauritz Hugo</td>\n",
       "      <td>actor</td>\n",
       "      <td>Doctor</td>\n",
       "      <td>NaN</td>\n",
       "    </tr>\n",
       "    <tr>\n",
       "      <th>1029154</th>\n",
       "      <td>Batman</td>\n",
       "      <td>1943</td>\n",
       "      <td>Jack Ingram</td>\n",
       "      <td>actor</td>\n",
       "      <td>Henchman Klein</td>\n",
       "      <td>NaN</td>\n",
       "    </tr>\n",
       "    <tr>\n",
       "      <th>1043887</th>\n",
       "      <td>Batman</td>\n",
       "      <td>1943</td>\n",
       "      <td>Warren Jackson</td>\n",
       "      <td>actor</td>\n",
       "      <td>Bernie</td>\n",
       "      <td>NaN</td>\n",
       "    </tr>\n",
       "    <tr>\n",
       "      <th>1079713</th>\n",
       "      <td>Batman</td>\n",
       "      <td>1943</td>\n",
       "      <td>I. Stanford Jolley</td>\n",
       "      <td>actor</td>\n",
       "      <td>Henchman Brett [Ch. 1-2</td>\n",
       "      <td>NaN</td>\n",
       "    </tr>\n",
       "    <tr>\n",
       "      <th>1105832</th>\n",
       "      <td>Batman</td>\n",
       "      <td>1943</td>\n",
       "      <td>Eddie Kane</td>\n",
       "      <td>actor</td>\n",
       "      <td>J. Hanson</td>\n",
       "      <td>NaN</td>\n",
       "    </tr>\n",
       "    <tr>\n",
       "      <th>1281634</th>\n",
       "      <td>Batman</td>\n",
       "      <td>1943</td>\n",
       "      <td>George J. Lewis</td>\n",
       "      <td>actor</td>\n",
       "      <td>Henchman Burke</td>\n",
       "      <td>NaN</td>\n",
       "    </tr>\n",
       "    <tr>\n",
       "      <th>1310087</th>\n",
       "      <td>Batman</td>\n",
       "      <td>1943</td>\n",
       "      <td>Tom London</td>\n",
       "      <td>actor</td>\n",
       "      <td>Henchman Andrews</td>\n",
       "      <td>NaN</td>\n",
       "    </tr>\n",
       "    <tr>\n",
       "      <th>1326373</th>\n",
       "      <td>Batman</td>\n",
       "      <td>1943</td>\n",
       "      <td>Sam Lufkin</td>\n",
       "      <td>actor</td>\n",
       "      <td>Cop</td>\n",
       "      <td>NaN</td>\n",
       "    </tr>\n",
       "    <tr>\n",
       "      <th>1354944</th>\n",
       "      <td>Batman</td>\n",
       "      <td>1943</td>\n",
       "      <td>George Magrill</td>\n",
       "      <td>actor</td>\n",
       "      <td>Henchman at Sphinx Club</td>\n",
       "      <td>NaN</td>\n",
       "    </tr>\n",
       "    <tr>\n",
       "      <th>1374054</th>\n",
       "      <td>Batman</td>\n",
       "      <td>1943</td>\n",
       "      <td>Knox Manning</td>\n",
       "      <td>actor</td>\n",
       "      <td>Narrator</td>\n",
       "      <td>NaN</td>\n",
       "    </tr>\n",
       "    <tr>\n",
       "      <th>1416921</th>\n",
       "      <td>Batman</td>\n",
       "      <td>1943</td>\n",
       "      <td>John (IV) Maxwell</td>\n",
       "      <td>actor</td>\n",
       "      <td>Sam Fletcher</td>\n",
       "      <td>NaN</td>\n",
       "    </tr>\n",
       "    <tr>\n",
       "      <th>1480691</th>\n",
       "      <td>Batman</td>\n",
       "      <td>1943</td>\n",
       "      <td>Charles Middleton</td>\n",
       "      <td>actor</td>\n",
       "      <td>Ken Colton [Ch. 6-8</td>\n",
       "      <td>NaN</td>\n",
       "    </tr>\n",
       "    <tr>\n",
       "      <th>1488728</th>\n",
       "      <td>Batman</td>\n",
       "      <td>1943</td>\n",
       "      <td>Harold Miller</td>\n",
       "      <td>actor</td>\n",
       "      <td>Restaurant Patron</td>\n",
       "      <td>NaN</td>\n",
       "    </tr>\n",
       "    <tr>\n",
       "      <th>1572558</th>\n",
       "      <td>Batman</td>\n",
       "      <td>1943</td>\n",
       "      <td>J. Carrol Naish</td>\n",
       "      <td>actor</td>\n",
       "      <td>Dr. Daka</td>\n",
       "      <td>3.0</td>\n",
       "    </tr>\n",
       "    <tr>\n",
       "      <th>1629893</th>\n",
       "      <td>Batman</td>\n",
       "      <td>1943</td>\n",
       "      <td>Pat O'Malley</td>\n",
       "      <td>actor</td>\n",
       "      <td>Cop</td>\n",
       "      <td>NaN</td>\n",
       "    </tr>\n",
       "    <tr>\n",
       "      <th>1643899</th>\n",
       "      <td>Batman</td>\n",
       "      <td>1943</td>\n",
       "      <td>Ted Oliver</td>\n",
       "      <td>actor</td>\n",
       "      <td>Marshall</td>\n",
       "      <td>NaN</td>\n",
       "    </tr>\n",
       "    <tr>\n",
       "      <th>1654583</th>\n",
       "      <td>Batman</td>\n",
       "      <td>1943</td>\n",
       "      <td>Bud Osborne</td>\n",
       "      <td>actor</td>\n",
       "      <td>Brown</td>\n",
       "      <td>NaN</td>\n",
       "    </tr>\n",
       "    <tr>\n",
       "      <th>1772238</th>\n",
       "      <td>Batman</td>\n",
       "      <td>1943</td>\n",
       "      <td>Stanley Price</td>\n",
       "      <td>actor</td>\n",
       "      <td>Henchman Driver [Ch. 1-2</td>\n",
       "      <td>NaN</td>\n",
       "    </tr>\n",
       "    <tr>\n",
       "      <th>1815153</th>\n",
       "      <td>Batman</td>\n",
       "      <td>1943</td>\n",
       "      <td>Joey Ray</td>\n",
       "      <td>actor</td>\n",
       "      <td>Henchman</td>\n",
       "      <td>NaN</td>\n",
       "    </tr>\n",
       "    <tr>\n",
       "      <th>1853342</th>\n",
       "      <td>Batman</td>\n",
       "      <td>1943</td>\n",
       "      <td>Cyril Ring</td>\n",
       "      <td>actor</td>\n",
       "      <td>Restaurant Patron</td>\n",
       "      <td>NaN</td>\n",
       "    </tr>\n",
       "    <tr>\n",
       "      <th>1870828</th>\n",
       "      <td>Batman</td>\n",
       "      <td>1943</td>\n",
       "      <td>George Robotham</td>\n",
       "      <td>actor</td>\n",
       "      <td>Henchman</td>\n",
       "      <td>NaN</td>\n",
       "    </tr>\n",
       "    <tr>\n",
       "      <th>1998609</th>\n",
       "      <td>Batman</td>\n",
       "      <td>1943</td>\n",
       "      <td>Frank Shannon</td>\n",
       "      <td>actor</td>\n",
       "      <td>Dr. Hayden</td>\n",
       "      <td>NaN</td>\n",
       "    </tr>\n",
       "    <tr>\n",
       "      <th>2168410</th>\n",
       "      <td>Batman</td>\n",
       "      <td>1943</td>\n",
       "      <td>Harry Tenbrook</td>\n",
       "      <td>actor</td>\n",
       "      <td>Bartender</td>\n",
       "      <td>NaN</td>\n",
       "    </tr>\n",
       "    <tr>\n",
       "      <th>2245660</th>\n",
       "      <td>Batman</td>\n",
       "      <td>1943</td>\n",
       "      <td>Michael Vallon</td>\n",
       "      <td>actor</td>\n",
       "      <td>Preston [Ch. 10</td>\n",
       "      <td>NaN</td>\n",
       "    </tr>\n",
       "    <tr>\n",
       "      <th>2312904</th>\n",
       "      <td>Batman</td>\n",
       "      <td>1943</td>\n",
       "      <td>Anthony Warde</td>\n",
       "      <td>actor</td>\n",
       "      <td>Stone</td>\n",
       "      <td>NaN</td>\n",
       "    </tr>\n",
       "    <tr>\n",
       "      <th>2344152</th>\n",
       "      <td>Batman</td>\n",
       "      <td>1943</td>\n",
       "      <td>Dan White</td>\n",
       "      <td>actor</td>\n",
       "      <td>Mover with Pickup Truck</td>\n",
       "      <td>NaN</td>\n",
       "    </tr>\n",
       "    <tr>\n",
       "      <th>2346834</th>\n",
       "      <td>Batman</td>\n",
       "      <td>1943</td>\n",
       "      <td>Blackie Whiteford</td>\n",
       "      <td>actor</td>\n",
       "      <td>Barfly</td>\n",
       "      <td>NaN</td>\n",
       "    </tr>\n",
       "    <tr>\n",
       "      <th>2355812</th>\n",
       "      <td>Batman</td>\n",
       "      <td>1943</td>\n",
       "      <td>Billy Wilkerson</td>\n",
       "      <td>actor</td>\n",
       "      <td>Steve [Ch. 8</td>\n",
       "      <td>NaN</td>\n",
       "    </tr>\n",
       "    <tr>\n",
       "      <th>2368904</th>\n",
       "      <td>Batman</td>\n",
       "      <td>1943</td>\n",
       "      <td>Charles C. Wilson</td>\n",
       "      <td>actor</td>\n",
       "      <td>Police Captain Arnold</td>\n",
       "      <td>NaN</td>\n",
       "    </tr>\n",
       "    <tr>\n",
       "      <th>2370238</th>\n",
       "      <td>Batman</td>\n",
       "      <td>1943</td>\n",
       "      <td>Harry Wilson</td>\n",
       "      <td>actor</td>\n",
       "      <td>Henchman</td>\n",
       "      <td>NaN</td>\n",
       "    </tr>\n",
       "    <tr>\n",
       "      <th>2371186</th>\n",
       "      <td>Batman</td>\n",
       "      <td>1943</td>\n",
       "      <td>Lewis Wilson</td>\n",
       "      <td>actor</td>\n",
       "      <td>Batman</td>\n",
       "      <td>1.0</td>\n",
       "    </tr>\n",
       "    <tr>\n",
       "      <th>2371187</th>\n",
       "      <td>Batman</td>\n",
       "      <td>1943</td>\n",
       "      <td>Lewis Wilson</td>\n",
       "      <td>actor</td>\n",
       "      <td>Bruce Wayne</td>\n",
       "      <td>1.0</td>\n",
       "    </tr>\n",
       "    <tr>\n",
       "      <th>3253550</th>\n",
       "      <td>Batman</td>\n",
       "      <td>1943</td>\n",
       "      <td>Shirley Patterson</td>\n",
       "      <td>actress</td>\n",
       "      <td>Linda Page</td>\n",
       "      <td>4.0</td>\n",
       "    </tr>\n",
       "  </tbody>\n",
       "</table>\n",
       "</div>"
      ],
      "text/plain": [
       "          title  year                name     type  \\\n",
       "95672    Batman  1943        Frank Austin    actor   \n",
       "96186    Batman  1943      William Austin    actor   \n",
       "258721   Batman  1943        Lynton Brent    actor   \n",
       "287420   Batman  1943           Roy Bucko    actor   \n",
       "387956   Batman  1943     George Chesebro    actor   \n",
       "477447   Batman  1943       Douglas Croft    actor   \n",
       "477448   Batman  1943       Douglas Croft    actor   \n",
       "490035   Batman  1943         Dick Curtis    actor   \n",
       "575535   Batman  1943          James Dime    actor   \n",
       "592716   Batman  1943         Lester Dorr    actor   \n",
       "612482   Batman  1943        Kenne Duncan    actor   \n",
       "706534   Batman  1943        Robert Fiske    actor   \n",
       "713064   Batman  1943           Sam Flint    actor   \n",
       "735294   Batman  1943         Jerry Frank    actor   \n",
       "746897   Batman  1943         Terry Frost    actor   \n",
       "772267   Batman  1943   Jack (II) Gardner    actor   \n",
       "808898   Batman  1943       Gus Glassmire    actor   \n",
       "880219   Batman  1943        Karl Hackett    actor   \n",
       "973056   Batman  1943       Earle Hodgins    actor   \n",
       "1007490  Batman  1943        Mauritz Hugo    actor   \n",
       "1029154  Batman  1943         Jack Ingram    actor   \n",
       "1043887  Batman  1943      Warren Jackson    actor   \n",
       "1079713  Batman  1943  I. Stanford Jolley    actor   \n",
       "1105832  Batman  1943          Eddie Kane    actor   \n",
       "1281634  Batman  1943     George J. Lewis    actor   \n",
       "1310087  Batman  1943          Tom London    actor   \n",
       "1326373  Batman  1943          Sam Lufkin    actor   \n",
       "1354944  Batman  1943      George Magrill    actor   \n",
       "1374054  Batman  1943        Knox Manning    actor   \n",
       "1416921  Batman  1943   John (IV) Maxwell    actor   \n",
       "1480691  Batman  1943   Charles Middleton    actor   \n",
       "1488728  Batman  1943       Harold Miller    actor   \n",
       "1572558  Batman  1943     J. Carrol Naish    actor   \n",
       "1629893  Batman  1943        Pat O'Malley    actor   \n",
       "1643899  Batman  1943          Ted Oliver    actor   \n",
       "1654583  Batman  1943         Bud Osborne    actor   \n",
       "1772238  Batman  1943       Stanley Price    actor   \n",
       "1815153  Batman  1943            Joey Ray    actor   \n",
       "1853342  Batman  1943          Cyril Ring    actor   \n",
       "1870828  Batman  1943     George Robotham    actor   \n",
       "1998609  Batman  1943       Frank Shannon    actor   \n",
       "2168410  Batman  1943      Harry Tenbrook    actor   \n",
       "2245660  Batman  1943      Michael Vallon    actor   \n",
       "2312904  Batman  1943       Anthony Warde    actor   \n",
       "2344152  Batman  1943           Dan White    actor   \n",
       "2346834  Batman  1943   Blackie Whiteford    actor   \n",
       "2355812  Batman  1943     Billy Wilkerson    actor   \n",
       "2368904  Batman  1943   Charles C. Wilson    actor   \n",
       "2370238  Batman  1943        Harry Wilson    actor   \n",
       "2371186  Batman  1943        Lewis Wilson    actor   \n",
       "2371187  Batman  1943        Lewis Wilson    actor   \n",
       "3253550  Batman  1943   Shirley Patterson  actress   \n",
       "\n",
       "                                      character    n  \n",
       "95672                               Hotel Clerk  NaN  \n",
       "96186                         Alfred Pennyworth  NaN  \n",
       "258721                  Intended Lockwood Pilot  NaN  \n",
       "287420                                   Barfly  NaN  \n",
       "387956                         Brennan [Ch. 1-3  NaN  \n",
       "477447                                    Robin  2.0  \n",
       "477448                             Dick Grayson  2.0  \n",
       "490035   Agent Croft of Section 50 [Ch. 10-12])  NaN  \n",
       "575535                                 Henchman  NaN  \n",
       "592716                   Agent on Plane [Ch. 10  NaN  \n",
       "612482              Fred, the Mechanic [Ch. 5-6  NaN  \n",
       "706534                          Foster [Ch. 1-4  NaN  \n",
       "713064                   Dr. G.H. Borden [Ch. 1  NaN  \n",
       "735294                     Cave of Horrors Thug  NaN  \n",
       "746897                        Male Nurse [Ch. 7  NaN  \n",
       "772267                             Jim Bramwell  NaN  \n",
       "808898                            Martin Warren  NaN  \n",
       "880219                                  Wallace  NaN  \n",
       "973056                                      Joe  NaN  \n",
       "1007490                                  Doctor  NaN  \n",
       "1029154                          Henchman Klein  NaN  \n",
       "1043887                                  Bernie  NaN  \n",
       "1079713                 Henchman Brett [Ch. 1-2  NaN  \n",
       "1105832                               J. Hanson  NaN  \n",
       "1281634                          Henchman Burke  NaN  \n",
       "1310087                        Henchman Andrews  NaN  \n",
       "1326373                                     Cop  NaN  \n",
       "1354944                 Henchman at Sphinx Club  NaN  \n",
       "1374054                                Narrator  NaN  \n",
       "1416921                            Sam Fletcher  NaN  \n",
       "1480691                     Ken Colton [Ch. 6-8  NaN  \n",
       "1488728                       Restaurant Patron  NaN  \n",
       "1572558                                Dr. Daka  3.0  \n",
       "1629893                                     Cop  NaN  \n",
       "1643899                                Marshall  NaN  \n",
       "1654583                                   Brown  NaN  \n",
       "1772238                Henchman Driver [Ch. 1-2  NaN  \n",
       "1815153                                Henchman  NaN  \n",
       "1853342                       Restaurant Patron  NaN  \n",
       "1870828                                Henchman  NaN  \n",
       "1998609                              Dr. Hayden  NaN  \n",
       "2168410                               Bartender  NaN  \n",
       "2245660                         Preston [Ch. 10  NaN  \n",
       "2312904                                   Stone  NaN  \n",
       "2344152                 Mover with Pickup Truck  NaN  \n",
       "2346834                                  Barfly  NaN  \n",
       "2355812                            Steve [Ch. 8  NaN  \n",
       "2368904                   Police Captain Arnold  NaN  \n",
       "2370238                                Henchman  NaN  \n",
       "2371186                                  Batman  1.0  \n",
       "2371187                             Bruce Wayne  1.0  \n",
       "3253550                              Linda Page  4.0  "
      ]
     },
     "execution_count": 20,
     "metadata": {},
     "output_type": "execute_result"
    }
   ],
   "source": [
    "cast[(cast['year']<=1943) & (cast['title'] == 'Batman')] # in 1943 movie titles batman was released"
   ]
  },
  {
   "cell_type": "code",
   "execution_count": 16,
   "metadata": {},
   "outputs": [
    {
     "name": "stdout",
     "output_type": "stream",
     "text": [
      "Years in which a movie titled 'Batman' was released: 95672      1943\n",
      "96186      1943\n",
      "114034     1989\n",
      "119476     1989\n",
      "149767     1989\n",
      "           ... \n",
      "2907449    1989\n",
      "3253550    1943\n",
      "3343947    1989\n",
      "3345872    1989\n",
      "3356826    1989\n",
      "Name: year, Length: 120, dtype: int64\n"
     ]
    }
   ],
   "source": [
    "# Assuming the 'title' and 'year' columns exist in your DataFrame\n",
    "batman_movies = cast[cast['title'] == 'Batman']\n",
    "\n",
    "# Extract the unique years in which Batman movies were released\n",
    "release_years = batman_movies['year']\n",
    "\n",
    "# Print the result\n",
    "print(f\"Years in which a movie titled 'Batman' was released: {release_years}\")"
   ]
  },
  {
   "cell_type": "markdown",
   "metadata": {
    "collapsed": true
   },
   "source": [
    "### How many roles were there in the movie \"Inception\"?"
   ]
  },
  {
   "cell_type": "code",
   "execution_count": 21,
   "metadata": {},
   "outputs": [
    {
     "data": {
      "text/html": [
       "<div>\n",
       "<style scoped>\n",
       "    .dataframe tbody tr th:only-of-type {\n",
       "        vertical-align: middle;\n",
       "    }\n",
       "\n",
       "    .dataframe tbody tr th {\n",
       "        vertical-align: top;\n",
       "    }\n",
       "\n",
       "    .dataframe thead th {\n",
       "        text-align: right;\n",
       "    }\n",
       "</style>\n",
       "<table border=\"1\" class=\"dataframe\">\n",
       "  <thead>\n",
       "    <tr style=\"text-align: right;\">\n",
       "      <th></th>\n",
       "      <th>title</th>\n",
       "      <th>year</th>\n",
       "      <th>name</th>\n",
       "      <th>type</th>\n",
       "      <th>character</th>\n",
       "      <th>n</th>\n",
       "    </tr>\n",
       "  </thead>\n",
       "  <tbody>\n",
       "    <tr>\n",
       "      <th>94333</th>\n",
       "      <td>Inception</td>\n",
       "      <td>2010</td>\n",
       "      <td>Michael (III) August</td>\n",
       "      <td>actor</td>\n",
       "      <td>LAX Passenger</td>\n",
       "      <td>NaN</td>\n",
       "    </tr>\n",
       "    <tr>\n",
       "      <th>143138</th>\n",
       "      <td>Inception</td>\n",
       "      <td>2010</td>\n",
       "      <td>Peter Basham</td>\n",
       "      <td>actor</td>\n",
       "      <td>Fischer's Jet Captain</td>\n",
       "      <td>44.0</td>\n",
       "    </tr>\n",
       "    <tr>\n",
       "      <th>176819</th>\n",
       "      <td>Inception</td>\n",
       "      <td>2010</td>\n",
       "      <td>Tom Berenger</td>\n",
       "      <td>actor</td>\n",
       "      <td>Browning</td>\n",
       "      <td>8.0</td>\n",
       "    </tr>\n",
       "    <tr>\n",
       "      <th>190249</th>\n",
       "      <td>Inception</td>\n",
       "      <td>2010</td>\n",
       "      <td>Ken Bhan</td>\n",
       "      <td>actor</td>\n",
       "      <td>Mombasan Gambler</td>\n",
       "      <td>NaN</td>\n",
       "    </tr>\n",
       "    <tr>\n",
       "      <th>250191</th>\n",
       "      <td>Inception</td>\n",
       "      <td>2010</td>\n",
       "      <td>Virgile Bramly</td>\n",
       "      <td>actor</td>\n",
       "      <td>Bridge Sub Con</td>\n",
       "      <td>29.0</td>\n",
       "    </tr>\n",
       "    <tr>\n",
       "      <th>...</th>\n",
       "      <td>...</td>\n",
       "      <td>...</td>\n",
       "      <td>...</td>\n",
       "      <td>...</td>\n",
       "      <td>...</td>\n",
       "      <td>...</td>\n",
       "    </tr>\n",
       "    <tr>\n",
       "      <th>3238950</th>\n",
       "      <td>Inception</td>\n",
       "      <td>2010</td>\n",
       "      <td>Ellen Page</td>\n",
       "      <td>actress</td>\n",
       "      <td>Ariadne</td>\n",
       "      <td>3.0</td>\n",
       "    </tr>\n",
       "    <tr>\n",
       "      <th>3292669</th>\n",
       "      <td>Inception</td>\n",
       "      <td>2010</td>\n",
       "      <td>Nicole Pulliam</td>\n",
       "      <td>actress</td>\n",
       "      <td>Lobby Sub Con</td>\n",
       "      <td>43.0</td>\n",
       "    </tr>\n",
       "    <tr>\n",
       "      <th>3319073</th>\n",
       "      <td>Inception</td>\n",
       "      <td>2010</td>\n",
       "      <td>Lisa (II) Reynolds</td>\n",
       "      <td>actress</td>\n",
       "      <td>Private Nurse</td>\n",
       "      <td>48.0</td>\n",
       "    </tr>\n",
       "    <tr>\n",
       "      <th>3325768</th>\n",
       "      <td>Inception</td>\n",
       "      <td>2010</td>\n",
       "      <td>Talulah Riley</td>\n",
       "      <td>actress</td>\n",
       "      <td>Blonde</td>\n",
       "      <td>25.0</td>\n",
       "    </tr>\n",
       "    <tr>\n",
       "      <th>3560127</th>\n",
       "      <td>Inception</td>\n",
       "      <td>2010</td>\n",
       "      <td>Shannon Welles</td>\n",
       "      <td>actress</td>\n",
       "      <td>Old Mal</td>\n",
       "      <td>51.0</td>\n",
       "    </tr>\n",
       "  </tbody>\n",
       "</table>\n",
       "<p>77 rows × 6 columns</p>\n",
       "</div>"
      ],
      "text/plain": [
       "             title  year                  name     type  \\\n",
       "94333    Inception  2010  Michael (III) August    actor   \n",
       "143138   Inception  2010          Peter Basham    actor   \n",
       "176819   Inception  2010          Tom Berenger    actor   \n",
       "190249   Inception  2010              Ken Bhan    actor   \n",
       "250191   Inception  2010        Virgile Bramly    actor   \n",
       "...            ...   ...                   ...      ...   \n",
       "3238950  Inception  2010            Ellen Page  actress   \n",
       "3292669  Inception  2010        Nicole Pulliam  actress   \n",
       "3319073  Inception  2010    Lisa (II) Reynolds  actress   \n",
       "3325768  Inception  2010         Talulah Riley  actress   \n",
       "3560127  Inception  2010        Shannon Welles  actress   \n",
       "\n",
       "                     character     n  \n",
       "94333            LAX Passenger   NaN  \n",
       "143138   Fischer's Jet Captain  44.0  \n",
       "176819                Browning   8.0  \n",
       "190249        Mombasan Gambler   NaN  \n",
       "250191          Bridge Sub Con  29.0  \n",
       "...                        ...   ...  \n",
       "3238950                Ariadne   3.0  \n",
       "3292669          Lobby Sub Con  43.0  \n",
       "3319073          Private Nurse  48.0  \n",
       "3325768                 Blonde  25.0  \n",
       "3560127                Old Mal  51.0  \n",
       "\n",
       "[77 rows x 6 columns]"
      ]
     },
     "execution_count": 21,
     "metadata": {},
     "output_type": "execute_result"
    }
   ],
   "source": [
    "dp=cast[(cast['title'] == 'Inception')] # 77 roles were their in movie inception\n",
    "dp"
   ]
  },
  {
   "cell_type": "code",
   "execution_count": 17,
   "metadata": {},
   "outputs": [
    {
     "name": "stdout",
     "output_type": "stream",
     "text": [
      "Years in which a movie titled 'Inception' was released: 94333      2010\n",
      "143138     2010\n",
      "176819     2010\n",
      "190249     2010\n",
      "250191     2010\n",
      "           ... \n",
      "3238950    2010\n",
      "3292669    2010\n",
      "3319073    2010\n",
      "3325768    2010\n",
      "3560127    2010\n",
      "Name: year, Length: 77, dtype: int64\n"
     ]
    }
   ],
   "source": [
    "# Assuming the 'title' and 'year' columns exist in your DataFrame\n",
    "inception_movies = cast[cast['title'] == 'Inception']\n",
    "\n",
    "# Extract the unique years in which Batman movies were released\n",
    "release_years = inception_movies['year']\n",
    "\n",
    "# Print the result\n",
    "print(f\"Years in which a movie titled 'Inception' was released: {release_years}\")"
   ]
  },
  {
   "cell_type": "markdown",
   "metadata": {
    "collapsed": true
   },
   "source": [
    "### How many roles in the movie \"Inception\" are NOT ranked by an \"n\" value?"
   ]
  },
  {
   "cell_type": "code",
   "execution_count": 18,
   "metadata": {},
   "outputs": [
    {
     "name": "stdout",
     "output_type": "stream",
     "text": [
      "The number of roles in the movie 'Inception' that are not ranked by an 'n' value is: 26\n"
     ]
    }
   ],
   "source": [
    "# Assuming the 'title', 'n', and 'character' columns exist in your DataFrame\n",
    "inception_roles = cast[(cast['title'] == 'Inception') & (cast['n'].isnull())]\n",
    "\n",
    "# Get the count of roles in \"Inception\" that are not ranked by an \"n\" value\n",
    "num_roles_without_n_value = len(inception_roles)\n",
    "\n",
    "# Print the result\n",
    "print(f\"The number of roles in the movie 'Inception' that are not ranked by an 'n' value is: {num_roles_without_n_value}\")"
   ]
  },
  {
   "cell_type": "markdown",
   "metadata": {
    "collapsed": true
   },
   "source": [
    "### But how many roles in the movie \"Inception\" did receive an \"n\" value?"
   ]
  },
  {
   "cell_type": "code",
   "execution_count": 23,
   "metadata": {},
   "outputs": [
    {
     "data": {
      "text/plain": [
       "title  year   name   type   character  n    \n",
       "False  False  False  False  False      False    51\n",
       "                                       True     26\n",
       "dtype: int64"
      ]
     },
     "execution_count": 23,
     "metadata": {},
     "output_type": "execute_result"
    }
   ],
   "source": [
    "dp.isnull().value_counts() # 51 roles in movie Inception did receive an \"n\" value"
   ]
  },
  {
   "cell_type": "code",
   "execution_count": 22,
   "metadata": {},
   "outputs": [
    {
     "name": "stdout",
     "output_type": "stream",
     "text": [
      "The number of roles in the movie 'Inception' that received an 'n' value is: 51\n"
     ]
    }
   ],
   "source": [
    "# Assuming the 'title', 'n', and 'character' columns exist in your DataFrame\n",
    "inception_roles_with_n_value = cast[(cast['title'] == 'Inception') & (~cast['n'].isnull())]\n",
    "\n",
    "# Get the count of roles in \"Inception\" that received an \"n\" value\n",
    "num_roles_with_n_value = len(inception_roles_with_n_value)\n",
    "\n",
    "# Print the result\n",
    "print(f\"The number of roles in the movie 'Inception' that received an 'n' value is: {num_roles_with_n_value}\")"
   ]
  },
  {
   "cell_type": "code",
   "execution_count": null,
   "metadata": {},
   "outputs": [],
   "source": []
  },
  {
   "cell_type": "markdown",
   "metadata": {
    "collapsed": true
   },
   "source": [
    "### Display the cast of \"North by Northwest\" in their correct \"n\"-value order, ignoring roles that did not earn a numeric \"n\" value."
   ]
  },
  {
   "cell_type": "code",
   "execution_count": 74,
   "metadata": {},
   "outputs": [
    {
     "data": {
      "text/html": [
       "<div>\n",
       "<style scoped>\n",
       "    .dataframe tbody tr th:only-of-type {\n",
       "        vertical-align: middle;\n",
       "    }\n",
       "\n",
       "    .dataframe tbody tr th {\n",
       "        vertical-align: top;\n",
       "    }\n",
       "\n",
       "    .dataframe thead th {\n",
       "        text-align: right;\n",
       "    }\n",
       "</style>\n",
       "<table border=\"1\" class=\"dataframe\">\n",
       "  <thead>\n",
       "    <tr style=\"text-align: right;\">\n",
       "      <th></th>\n",
       "      <th>title</th>\n",
       "      <th>year</th>\n",
       "      <th>name</th>\n",
       "      <th>type</th>\n",
       "      <th>character</th>\n",
       "      <th>n</th>\n",
       "    </tr>\n",
       "  </thead>\n",
       "  <tbody>\n",
       "    <tr>\n",
       "      <th>12151</th>\n",
       "      <td>North by Northwest</td>\n",
       "      <td>1959</td>\n",
       "      <td>Stanley Adams</td>\n",
       "      <td>actor</td>\n",
       "      <td>Lieutenant Harding</td>\n",
       "      <td>NaN</td>\n",
       "    </tr>\n",
       "    <tr>\n",
       "      <th>27852</th>\n",
       "      <td>North by Northwest</td>\n",
       "      <td>1959</td>\n",
       "      <td>Andy Albin</td>\n",
       "      <td>actor</td>\n",
       "      <td>Farmer</td>\n",
       "      <td>NaN</td>\n",
       "    </tr>\n",
       "    <tr>\n",
       "      <th>54093</th>\n",
       "      <td>North by Northwest</td>\n",
       "      <td>1959</td>\n",
       "      <td>Don Anderson</td>\n",
       "      <td>actor</td>\n",
       "      <td>Worker</td>\n",
       "      <td>NaN</td>\n",
       "    </tr>\n",
       "    <tr>\n",
       "      <th>54307</th>\n",
       "      <td>North by Northwest</td>\n",
       "      <td>1959</td>\n",
       "      <td>Ernest Anderson</td>\n",
       "      <td>actor</td>\n",
       "      <td>Porter on Twentieth Century Ltd.</td>\n",
       "      <td>NaN</td>\n",
       "    </tr>\n",
       "    <tr>\n",
       "      <th>92195</th>\n",
       "      <td>North by Northwest</td>\n",
       "      <td>1959</td>\n",
       "      <td>Malcolm Atterbury</td>\n",
       "      <td>actor</td>\n",
       "      <td>Man at Prairie Crossing</td>\n",
       "      <td>NaN</td>\n",
       "    </tr>\n",
       "    <tr>\n",
       "      <th>...</th>\n",
       "      <td>...</td>\n",
       "      <td>...</td>\n",
       "      <td>...</td>\n",
       "      <td>...</td>\n",
       "      <td>...</td>\n",
       "      <td>...</td>\n",
       "    </tr>\n",
       "    <tr>\n",
       "      <th>3361396</th>\n",
       "      <td>North by Northwest</td>\n",
       "      <td>1959</td>\n",
       "      <td>Eva Marie Saint</td>\n",
       "      <td>actress</td>\n",
       "      <td>Eve Kendall</td>\n",
       "      <td>2.0</td>\n",
       "    </tr>\n",
       "    <tr>\n",
       "      <th>3416124</th>\n",
       "      <td>North by Northwest</td>\n",
       "      <td>1959</td>\n",
       "      <td>Doris Singh</td>\n",
       "      <td>actress</td>\n",
       "      <td>First United Nations Receptionist</td>\n",
       "      <td>NaN</td>\n",
       "    </tr>\n",
       "    <tr>\n",
       "      <th>3437248</th>\n",
       "      <td>North by Northwest</td>\n",
       "      <td>1959</td>\n",
       "      <td>Helen Spring</td>\n",
       "      <td>actress</td>\n",
       "      <td>Bidder</td>\n",
       "      <td>NaN</td>\n",
       "    </tr>\n",
       "    <tr>\n",
       "      <th>3567500</th>\n",
       "      <td>North by Northwest</td>\n",
       "      <td>1959</td>\n",
       "      <td>Susan Whitney</td>\n",
       "      <td>actress</td>\n",
       "      <td>Attendant</td>\n",
       "      <td>NaN</td>\n",
       "    </tr>\n",
       "    <tr>\n",
       "      <th>3578877</th>\n",
       "      <td>North by Northwest</td>\n",
       "      <td>1959</td>\n",
       "      <td>Paula Winslowe</td>\n",
       "      <td>actress</td>\n",
       "      <td>Woman at Auction</td>\n",
       "      <td>NaN</td>\n",
       "    </tr>\n",
       "  </tbody>\n",
       "</table>\n",
       "<p>112 rows × 6 columns</p>\n",
       "</div>"
      ],
      "text/plain": [
       "                      title  year               name     type  \\\n",
       "12151    North by Northwest  1959      Stanley Adams    actor   \n",
       "27852    North by Northwest  1959         Andy Albin    actor   \n",
       "54093    North by Northwest  1959       Don Anderson    actor   \n",
       "54307    North by Northwest  1959    Ernest Anderson    actor   \n",
       "92195    North by Northwest  1959  Malcolm Atterbury    actor   \n",
       "...                     ...   ...                ...      ...   \n",
       "3361396  North by Northwest  1959    Eva Marie Saint  actress   \n",
       "3416124  North by Northwest  1959        Doris Singh  actress   \n",
       "3437248  North by Northwest  1959       Helen Spring  actress   \n",
       "3567500  North by Northwest  1959      Susan Whitney  actress   \n",
       "3578877  North by Northwest  1959     Paula Winslowe  actress   \n",
       "\n",
       "                                 character    n  \n",
       "12151                   Lieutenant Harding  NaN  \n",
       "27852                               Farmer  NaN  \n",
       "54093                               Worker  NaN  \n",
       "54307     Porter on Twentieth Century Ltd.  NaN  \n",
       "92195              Man at Prairie Crossing  NaN  \n",
       "...                                    ...  ...  \n",
       "3361396                        Eve Kendall  2.0  \n",
       "3416124  First United Nations Receptionist  NaN  \n",
       "3437248                             Bidder  NaN  \n",
       "3567500                          Attendant  NaN  \n",
       "3578877                   Woman at Auction  NaN  \n",
       "\n",
       "[112 rows x 6 columns]"
      ]
     },
     "execution_count": 74,
     "metadata": {},
     "output_type": "execute_result"
    }
   ],
   "source": [
    "re=cast[cast['title'] == 'North by Northwest']\n",
    "re"
   ]
  },
  {
   "cell_type": "code",
   "execution_count": 36,
   "metadata": {},
   "outputs": [
    {
     "name": "stdout",
     "output_type": "stream",
     "text": [
      "                      title  year               name     type  \\\n",
      "12151    North by Northwest  1959      Stanley Adams    actor   \n",
      "27852    North by Northwest  1959         Andy Albin    actor   \n",
      "54093    North by Northwest  1959       Don Anderson    actor   \n",
      "54307    North by Northwest  1959    Ernest Anderson    actor   \n",
      "92195    North by Northwest  1959  Malcolm Atterbury    actor   \n",
      "...                     ...   ...                ...      ...   \n",
      "3289400  North by Northwest  1959    Maudie Prickett  actress   \n",
      "3416124  North by Northwest  1959        Doris Singh  actress   \n",
      "3437248  North by Northwest  1959       Helen Spring  actress   \n",
      "3567500  North by Northwest  1959      Susan Whitney  actress   \n",
      "3578877  North by Northwest  1959     Paula Winslowe  actress   \n",
      "\n",
      "                                 character   n  \n",
      "12151                   Lieutenant Harding NaN  \n",
      "27852                               Farmer NaN  \n",
      "54093                               Worker NaN  \n",
      "54307     Porter on Twentieth Century Ltd. NaN  \n",
      "92195              Man at Prairie Crossing NaN  \n",
      "...                                    ...  ..  \n",
      "3289400                       Elsie - Maid NaN  \n",
      "3416124  First United Nations Receptionist NaN  \n",
      "3437248                             Bidder NaN  \n",
      "3567500                          Attendant NaN  \n",
      "3578877                   Woman at Auction NaN  \n",
      "\n",
      "[96 rows x 6 columns]\n"
     ]
    }
   ],
   "source": [
    "# Assuming the 'title' and 'n' columns exist in your DataFrame\n",
    "north_by_northwest_null_values = cast[(cast['title'] == 'North by Northwest') & (cast['n'].isnull())]\n",
    "\n",
    "# Display only the null values for \"n\" column\n",
    "print(north_by_northwest_null_values)"
   ]
  },
  {
   "cell_type": "code",
   "execution_count": null,
   "metadata": {},
   "outputs": [],
   "source": []
  },
  {
   "cell_type": "markdown",
   "metadata": {
    "collapsed": true
   },
   "source": [
    "### Display the entire cast, in \"n\"-order, of the 1972 film \"Sleuth\"."
   ]
  },
  {
   "cell_type": "code",
   "execution_count": 27,
   "metadata": {},
   "outputs": [
    {
     "data": {
      "text/html": [
       "<div>\n",
       "<style scoped>\n",
       "    .dataframe tbody tr th:only-of-type {\n",
       "        vertical-align: middle;\n",
       "    }\n",
       "\n",
       "    .dataframe tbody tr th {\n",
       "        vertical-align: top;\n",
       "    }\n",
       "\n",
       "    .dataframe thead th {\n",
       "        text-align: right;\n",
       "    }\n",
       "</style>\n",
       "<table border=\"1\" class=\"dataframe\">\n",
       "  <thead>\n",
       "    <tr style=\"text-align: right;\">\n",
       "      <th></th>\n",
       "      <th>title</th>\n",
       "      <th>year</th>\n",
       "      <th>name</th>\n",
       "      <th>type</th>\n",
       "      <th>character</th>\n",
       "      <th>n</th>\n",
       "    </tr>\n",
       "  </thead>\n",
       "  <tbody>\n",
       "    <tr>\n",
       "      <th>314691</th>\n",
       "      <td>Sleuth</td>\n",
       "      <td>1972</td>\n",
       "      <td>Michael Caine</td>\n",
       "      <td>actor</td>\n",
       "      <td>Milo Tindle</td>\n",
       "      <td>2.0</td>\n",
       "    </tr>\n",
       "    <tr>\n",
       "      <th>360365</th>\n",
       "      <td>Sleuth</td>\n",
       "      <td>1972</td>\n",
       "      <td>Alec Cawthorne</td>\n",
       "      <td>actor</td>\n",
       "      <td>Inspector Doppler</td>\n",
       "      <td>3.0</td>\n",
       "    </tr>\n",
       "    <tr>\n",
       "      <th>1396572</th>\n",
       "      <td>Sleuth</td>\n",
       "      <td>1972</td>\n",
       "      <td>Teddy Martin</td>\n",
       "      <td>actor</td>\n",
       "      <td>Police Constable Higgs</td>\n",
       "      <td>6.0</td>\n",
       "    </tr>\n",
       "    <tr>\n",
       "      <th>1412647</th>\n",
       "      <td>Sleuth</td>\n",
       "      <td>1972</td>\n",
       "      <td>John (II) Matthews</td>\n",
       "      <td>actor</td>\n",
       "      <td>Detective Sergeant Tarrant</td>\n",
       "      <td>4.0</td>\n",
       "    </tr>\n",
       "    <tr>\n",
       "      <th>1644328</th>\n",
       "      <td>Sleuth</td>\n",
       "      <td>1972</td>\n",
       "      <td>Laurence Olivier</td>\n",
       "      <td>actor</td>\n",
       "      <td>Andrew Wyke</td>\n",
       "      <td>1.0</td>\n",
       "    </tr>\n",
       "    <tr>\n",
       "      <th>2619278</th>\n",
       "      <td>Sleuth</td>\n",
       "      <td>1972</td>\n",
       "      <td>Eve (III) Channing</td>\n",
       "      <td>actress</td>\n",
       "      <td>Marguerite Wyke</td>\n",
       "      <td>5.0</td>\n",
       "    </tr>\n",
       "  </tbody>\n",
       "</table>\n",
       "</div>"
      ],
      "text/plain": [
       "          title  year                name     type  \\\n",
       "314691   Sleuth  1972       Michael Caine    actor   \n",
       "360365   Sleuth  1972      Alec Cawthorne    actor   \n",
       "1396572  Sleuth  1972        Teddy Martin    actor   \n",
       "1412647  Sleuth  1972  John (II) Matthews    actor   \n",
       "1644328  Sleuth  1972    Laurence Olivier    actor   \n",
       "2619278  Sleuth  1972  Eve (III) Channing  actress   \n",
       "\n",
       "                          character    n  \n",
       "314691                  Milo Tindle  2.0  \n",
       "360365            Inspector Doppler  3.0  \n",
       "1396572      Police Constable Higgs  6.0  \n",
       "1412647  Detective Sergeant Tarrant  4.0  \n",
       "1644328                 Andrew Wyke  1.0  \n",
       "2619278             Marguerite Wyke  5.0  "
      ]
     },
     "execution_count": 27,
     "metadata": {},
     "output_type": "execute_result"
    }
   ],
   "source": [
    "cast[(cast['year']<=1972) & (cast['title'] == 'Sleuth')]"
   ]
  },
  {
   "cell_type": "code",
   "execution_count": 35,
   "metadata": {},
   "outputs": [
    {
     "name": "stdout",
     "output_type": "stream",
     "text": [
      "Empty DataFrame\n",
      "Columns: [title, year, name, type, character, n]\n",
      "Index: []\n"
     ]
    }
   ],
   "source": [
    "# Assuming the 'title', 'year', and 'n' columns exist in your DataFrame\n",
    "sleuth_1972_null_values = cast[(cast['name'] == 'Sleuth') & (cast['year'] == 1972) & (cast['n'].isnull())]\n",
    "\n",
    "# Display only the null values for the \"n\" column\n",
    "print(sleuth_1972_null_values)"
   ]
  },
  {
   "cell_type": "markdown",
   "metadata": {
    "collapsed": true
   },
   "source": [
    "### Now display the entire cast, in \"n\"-order, of the 2007 version of \"Sleuth\"."
   ]
  },
  {
   "cell_type": "code",
   "execution_count": 28,
   "metadata": {},
   "outputs": [
    {
     "data": {
      "text/html": [
       "<div>\n",
       "<style scoped>\n",
       "    .dataframe tbody tr th:only-of-type {\n",
       "        vertical-align: middle;\n",
       "    }\n",
       "\n",
       "    .dataframe tbody tr th {\n",
       "        vertical-align: top;\n",
       "    }\n",
       "\n",
       "    .dataframe thead th {\n",
       "        text-align: right;\n",
       "    }\n",
       "</style>\n",
       "<table border=\"1\" class=\"dataframe\">\n",
       "  <thead>\n",
       "    <tr style=\"text-align: right;\">\n",
       "      <th></th>\n",
       "      <th>title</th>\n",
       "      <th>year</th>\n",
       "      <th>name</th>\n",
       "      <th>type</th>\n",
       "      <th>character</th>\n",
       "      <th>n</th>\n",
       "    </tr>\n",
       "  </thead>\n",
       "  <tbody>\n",
       "    <tr>\n",
       "      <th>250297</th>\n",
       "      <td>Sleuth</td>\n",
       "      <td>2007</td>\n",
       "      <td>Kenneth Branagh</td>\n",
       "      <td>actor</td>\n",
       "      <td>Other Man on T.V.</td>\n",
       "      <td>NaN</td>\n",
       "    </tr>\n",
       "    <tr>\n",
       "      <th>314692</th>\n",
       "      <td>Sleuth</td>\n",
       "      <td>2007</td>\n",
       "      <td>Michael Caine</td>\n",
       "      <td>actor</td>\n",
       "      <td>Andrew</td>\n",
       "      <td>1.0</td>\n",
       "    </tr>\n",
       "    <tr>\n",
       "      <th>360366</th>\n",
       "      <td>Sleuth</td>\n",
       "      <td>2007</td>\n",
       "      <td>Alec (II) Cawthorne</td>\n",
       "      <td>actor</td>\n",
       "      <td>Inspector Doppler</td>\n",
       "      <td>NaN</td>\n",
       "    </tr>\n",
       "    <tr>\n",
       "      <th>1246855</th>\n",
       "      <td>Sleuth</td>\n",
       "      <td>2007</td>\n",
       "      <td>Jude Law</td>\n",
       "      <td>actor</td>\n",
       "      <td>Milo</td>\n",
       "      <td>2.0</td>\n",
       "    </tr>\n",
       "    <tr>\n",
       "      <th>1741124</th>\n",
       "      <td>Sleuth</td>\n",
       "      <td>2007</td>\n",
       "      <td>Harold Pinter</td>\n",
       "      <td>actor</td>\n",
       "      <td>Man on T.V.</td>\n",
       "      <td>3.0</td>\n",
       "    </tr>\n",
       "    <tr>\n",
       "      <th>2619277</th>\n",
       "      <td>Sleuth</td>\n",
       "      <td>2007</td>\n",
       "      <td>Eve (II) Channing</td>\n",
       "      <td>actress</td>\n",
       "      <td>Marguerite Wyke</td>\n",
       "      <td>NaN</td>\n",
       "    </tr>\n",
       "    <tr>\n",
       "      <th>3223502</th>\n",
       "      <td>Sleuth</td>\n",
       "      <td>2007</td>\n",
       "      <td>Carmel O'Sullivan</td>\n",
       "      <td>actress</td>\n",
       "      <td>Maggie</td>\n",
       "      <td>NaN</td>\n",
       "    </tr>\n",
       "  </tbody>\n",
       "</table>\n",
       "</div>"
      ],
      "text/plain": [
       "          title  year                 name     type          character    n\n",
       "250297   Sleuth  2007      Kenneth Branagh    actor  Other Man on T.V.  NaN\n",
       "314692   Sleuth  2007        Michael Caine    actor             Andrew  1.0\n",
       "360366   Sleuth  2007  Alec (II) Cawthorne    actor  Inspector Doppler  NaN\n",
       "1246855  Sleuth  2007             Jude Law    actor               Milo  2.0\n",
       "1741124  Sleuth  2007        Harold Pinter    actor        Man on T.V.  3.0\n",
       "2619277  Sleuth  2007    Eve (II) Channing  actress    Marguerite Wyke  NaN\n",
       "3223502  Sleuth  2007    Carmel O'Sullivan  actress             Maggie  NaN"
      ]
     },
     "execution_count": 28,
     "metadata": {},
     "output_type": "execute_result"
    }
   ],
   "source": [
    "cast[(cast['year']==2007) & (cast['title'] == 'Sleuth')]"
   ]
  },
  {
   "cell_type": "code",
   "execution_count": 34,
   "metadata": {},
   "outputs": [
    {
     "name": "stdout",
     "output_type": "stream",
     "text": [
      "          title  year                 name     type          character   n\n",
      "250297   Sleuth  2007      Kenneth Branagh    actor  Other Man on T.V. NaN\n",
      "360366   Sleuth  2007  Alec (II) Cawthorne    actor  Inspector Doppler NaN\n",
      "2619277  Sleuth  2007    Eve (II) Channing  actress    Marguerite Wyke NaN\n",
      "3223502  Sleuth  2007    Carmel O'Sullivan  actress             Maggie NaN\n"
     ]
    }
   ],
   "source": [
    "# Assuming the 'title', 'year', and 'n' columns exist in your DataFrame\n",
    "sleuth_2007_null_values = cast[(cast['title'] == 'Sleuth') & (cast['year'] == 2007) & (cast['n'].isnull())]\n",
    "\n",
    "# Display only the null values for the \"n\" column\n",
    "print(sleuth_2007_null_values)"
   ]
  },
  {
   "cell_type": "markdown",
   "metadata": {
    "collapsed": true
   },
   "source": [
    "### How many roles were credited in the silent 1921 version of Hamlet?"
   ]
  },
  {
   "cell_type": "code",
   "execution_count": 37,
   "metadata": {},
   "outputs": [
    {
     "name": "stdout",
     "output_type": "stream",
     "text": [
      "The number of credited roles in the silent 1921 version of Hamlet is: 9\n"
     ]
    }
   ],
   "source": [
    "# Assuming the 'title', 'year', and 'character' columns exist in your DataFrame\n",
    "hamlet_1921_roles = cast[(cast['title'] == 'Hamlet') & (cast['year'] == 1921)]\n",
    "\n",
    "# Get the count of credited roles in the silent 1921 version of Hamlet\n",
    "num_roles_hamlet_1921 = len(hamlet_1921_roles)\n",
    "\n",
    "# Print the result\n",
    "print(f\"The number of credited roles in the silent 1921 version of Hamlet is: {num_roles_hamlet_1921}\")"
   ]
  },
  {
   "cell_type": "markdown",
   "metadata": {
    "collapsed": true
   },
   "source": [
    "### How many roles were credited in Branagh’s 1996 Hamlet?"
   ]
  },
  {
   "cell_type": "code",
   "execution_count": 38,
   "metadata": {},
   "outputs": [
    {
     "name": "stdout",
     "output_type": "stream",
     "text": [
      "The number of credited roles in Branagh's 1996 version of Hamlet is: 54\n"
     ]
    }
   ],
   "source": [
    "# Assuming the 'title', 'year', and 'character' columns exist in your DataFrame\n",
    "branagh_hamlet_roles = cast[(cast['title'] == 'Hamlet') & (cast['year'] == 1996)]\n",
    "\n",
    "# Get the count of credited roles in Branagh's 1996 version of Hamlet\n",
    "num_roles_branagh_hamlet = len(branagh_hamlet_roles)\n",
    "\n",
    "# Print the result\n",
    "print(f\"The number of credited roles in Branagh's 1996 version of Hamlet is: {num_roles_branagh_hamlet}\")"
   ]
  },
  {
   "cell_type": "markdown",
   "metadata": {
    "collapsed": true
   },
   "source": [
    "### How many \"Hamlet\" roles have been listed in all film credits through history?"
   ]
  },
  {
   "cell_type": "code",
   "execution_count": 39,
   "metadata": {},
   "outputs": [
    {
     "name": "stdout",
     "output_type": "stream",
     "text": [
      "The number of 'Hamlet' roles listed in all film credits through history is: 313\n"
     ]
    }
   ],
   "source": [
    "# Assuming the 'title' and 'character' columns exist in your DataFrame\n",
    "hamlet_roles = cast[cast['title'] == 'Hamlet']\n",
    "\n",
    "# Get the count of \"Hamlet\" roles listed in all film credits through history\n",
    "num_hamlet_roles = len(hamlet_roles)\n",
    "\n",
    "# Print the result\n",
    "print(f\"The number of 'Hamlet' roles listed in all film credits through history is: {num_hamlet_roles}\")"
   ]
  },
  {
   "cell_type": "code",
   "execution_count": null,
   "metadata": {},
   "outputs": [],
   "source": []
  },
  {
   "cell_type": "markdown",
   "metadata": {
    "collapsed": true
   },
   "source": [
    "### How many people have played an \"Ophelia\"?"
   ]
  },
  {
   "cell_type": "code",
   "execution_count": 42,
   "metadata": {},
   "outputs": [
    {
     "name": "stdout",
     "output_type": "stream",
     "text": [
      "The number of people who have played the role of 'Ophelia' is: 111\n"
     ]
    }
   ],
   "source": [
    "# Assuming the 'character' column exists in your DataFrame\n",
    "ophelia_actors = cast[cast['character'] == 'Ophelia']\n",
    "\n",
    "# Get the count of people who have played the role of \"Ophelia\"\n",
    "num_ophelia_actors = len(ophelia_actors['name'])\n",
    "\n",
    "# Print the result\n",
    "print(f\"The number of people who have played the role of 'Ophelia' is: {num_ophelia_actors}\")\n"
   ]
  },
  {
   "cell_type": "markdown",
   "metadata": {
    "collapsed": true
   },
   "source": [
    "### How many people have played a role called \"The Dude\"?"
   ]
  },
  {
   "cell_type": "code",
   "execution_count": 44,
   "metadata": {},
   "outputs": [
    {
     "name": "stdout",
     "output_type": "stream",
     "text": [
      "The number of people who have played the role of 'The Dude' is: 18\n"
     ]
    }
   ],
   "source": [
    "# Assuming the 'character' column exists in your DataFrame\n",
    "the_dude_actors = cast[cast['character'] == 'The Dude']\n",
    "\n",
    "# Get the count of people who have played the role of \"The dude\"\n",
    "the_dude_actors = len(the_dude_actors['name'])\n",
    "\n",
    "# Print the result\n",
    "print(f\"The number of people who have played the role of 'The Dude' is: {the_dude_actors}\")"
   ]
  },
  {
   "cell_type": "markdown",
   "metadata": {
    "collapsed": true
   },
   "source": [
    "### How many people have played a role called \"The Stranger\"?"
   ]
  },
  {
   "cell_type": "code",
   "execution_count": 46,
   "metadata": {},
   "outputs": [
    {
     "name": "stdout",
     "output_type": "stream",
     "text": [
      "The number of people who have played the role of 'the Stranger' is: 208\n"
     ]
    }
   ],
   "source": [
    "# Assuming the 'character' column exists in your DataFrame\n",
    "the_stranger_actors = cast[cast['character'] == 'The Stranger']\n",
    "\n",
    "# Get the count of people who have played the role of \"The Stranger\"\n",
    "the_stranger_actors = len(the_stranger_actors['name'])\n",
    "\n",
    "# Print the result\n",
    "print(f\"The number of people who have played the role of 'the Stranger' is: {the_stranger_actors}\")"
   ]
  },
  {
   "cell_type": "code",
   "execution_count": null,
   "metadata": {},
   "outputs": [],
   "source": []
  },
  {
   "cell_type": "markdown",
   "metadata": {
    "collapsed": true
   },
   "source": [
    "### How many roles has Sidney Poitier played throughout his career?"
   ]
  },
  {
   "cell_type": "code",
   "execution_count": 48,
   "metadata": {},
   "outputs": [
    {
     "name": "stdout",
     "output_type": "stream",
     "text": [
      "The number of roles played by Sidney Poitier throughout his career is: 43\n"
     ]
    }
   ],
   "source": [
    "# Assuming the 'name' and 'character' columns exist in your DataFrame\n",
    "sidney_poitier_roles = cast[cast['name'] == 'Sidney Poitier']\n",
    "\n",
    "# Get the count of roles played by Sidney Poitier\n",
    "num_sidney_poitier_roles = len(sidney_poitier_roles['character'])\n",
    "\n",
    "# Print the result\n",
    "print(f\"The number of roles played by Sidney Poitier throughout his career is: {num_sidney_poitier_roles}\")"
   ]
  },
  {
   "cell_type": "markdown",
   "metadata": {
    "collapsed": true
   },
   "source": [
    "### How many roles has Judi Dench played?"
   ]
  },
  {
   "cell_type": "code",
   "execution_count": 49,
   "metadata": {},
   "outputs": [
    {
     "name": "stdout",
     "output_type": "stream",
     "text": [
      "The number of people who have played the role of 'Judi Dench' is: 55\n"
     ]
    }
   ],
   "source": [
    "# Assuming the 'character' column exists in your DataFrame\n",
    "judi_dench_actors = cast[cast['name'] == 'Judi Dench']\n",
    "\n",
    "# Get the count of people who have played the role of \"Judi Dench\"\n",
    "judi_dench_actors = len(judi_dench_actors['name'])\n",
    "\n",
    "# Print the result\n",
    "print(f\"The number of people who have played the role of 'Judi Dench' is: {judi_dench_actors}\")"
   ]
  },
  {
   "cell_type": "markdown",
   "metadata": {
    "collapsed": true
   },
   "source": [
    "### List the supporting roles (having n=2) played by Cary Grant in the 1940s, in order by year."
   ]
  },
  {
   "cell_type": "code",
   "execution_count": 52,
   "metadata": {},
   "outputs": [
    {
     "name": "stdout",
     "output_type": "stream",
     "text": [
      "                   title  year        name   type character    n\n",
      "840371  My Favorite Wife  1940  Cary Grant  actor      Nick  2.0\n"
     ]
    }
   ],
   "source": [
    "# Assuming the 'name', 'n', 'year', and 'character' columns exist in your DataFrame\n",
    "cary_grant_supporting_roles_1940s = cast[(cast['name'] == 'Cary Grant') & (cast['n'] == 2) & (cast['year'] == 1940)]\n",
    "\n",
    "# Sort the supporting roles by year\n",
    "sorted_cary_grant_supporting_roles = cary_grant_supporting_roles_1940s.sort_values(by='year')\n",
    "\n",
    "# Display the sorted supporting roles\n",
    "print(sorted_cary_grant_supporting_roles)"
   ]
  },
  {
   "cell_type": "markdown",
   "metadata": {
    "collapsed": true
   },
   "source": [
    "### List the leading roles that Cary Grant played in the 1940s in order by year."
   ]
  },
  {
   "cell_type": "code",
   "execution_count": 56,
   "metadata": {},
   "outputs": [
    {
     "name": "stdout",
     "output_type": "stream",
     "text": [
      "                          title  year        name   type           character  \\\n",
      "840353          His Girl Friday  1940  Cary Grant  actor        Walter Burns   \n",
      "840371         My Favorite Wife  1940  Cary Grant  actor                Nick   \n",
      "840397  The Howards of Virginia  1940  Cary Grant  actor         Matt Howard   \n",
      "840399   The Philadelphia Story  1940  Cary Grant  actor  C. K. Dexter Haven   \n",
      "\n",
      "          n  \n",
      "840353  1.0  \n",
      "840371  2.0  \n",
      "840397  1.0  \n",
      "840399  1.0  \n"
     ]
    }
   ],
   "source": [
    "# Assuming the 'name', 'n', 'year', and 'character' columns exist in your DataFrame\n",
    "cary_grant_leading_roles_1940s = cast[(cast['name'] == 'Cary Grant') & (cast['n'] >= 1) & (cast['year'] == 1940)]\n",
    "\n",
    "# Sort the leading roles by year\n",
    "sorted_cary_grant_leading_roles = cary_grant_leading_roles_1940s.sort_values(by='year')\n",
    "\n",
    "# Display the sorted leading roles\n",
    "print(sorted_cary_grant_leading_roles)"
   ]
  },
  {
   "cell_type": "markdown",
   "metadata": {
    "collapsed": true
   },
   "source": [
    "### How many roles were available for actors in the 1950s?"
   ]
  },
  {
   "cell_type": "code",
   "execution_count": 58,
   "metadata": {},
   "outputs": [
    {
     "name": "stdout",
     "output_type": "stream",
     "text": [
      "The number of roles available for actors in the 1950s is: 16512\n"
     ]
    }
   ],
   "source": [
    "# Assuming the 'type' and 'year' columns exist in your DataFrame\n",
    "roles_1950s = cast[(cast['type'] == 'actor') & (cast['year'] == 1950)]\n",
    "\n",
    "# Get the count of roles available for actors in the 1950s\n",
    "num_roles_1950s = len(roles_1950s)\n",
    "\n",
    "# Print the result\n",
    "print(f\"The number of roles available for actors in the 1950s is: {num_roles_1950s}\")"
   ]
  },
  {
   "cell_type": "code",
   "execution_count": null,
   "metadata": {},
   "outputs": [],
   "source": []
  },
  {
   "cell_type": "markdown",
   "metadata": {
    "collapsed": true
   },
   "source": [
    "### How many roles were available for actresses in the 1950s?"
   ]
  },
  {
   "cell_type": "code",
   "execution_count": 59,
   "metadata": {},
   "outputs": [
    {
     "name": "stdout",
     "output_type": "stream",
     "text": [
      "The number of roles available for actress in the 1950s is: 5494\n"
     ]
    }
   ],
   "source": [
    "# Assuming the 'type' and 'year' columns exist in your DataFrame\n",
    "roles_1950s = cast[(cast['type'] == 'actress') & (cast['year'] == 1950)]\n",
    "\n",
    "# Get the count of roles available for actors in the 1950s\n",
    "num_roles_1950s = len(roles_1950s)\n",
    "\n",
    "# Print the result\n",
    "print(f\"The number of roles available for actress in the 1950s is: {num_roles_1950s}\")"
   ]
  },
  {
   "cell_type": "code",
   "execution_count": null,
   "metadata": {},
   "outputs": [],
   "source": []
  },
  {
   "cell_type": "markdown",
   "metadata": {
    "collapsed": true
   },
   "source": [
    "### How many leading roles (n=1) were available from the beginning of film history through 1980?"
   ]
  },
  {
   "cell_type": "code",
   "execution_count": 63,
   "metadata": {},
   "outputs": [
    {
     "name": "stdout",
     "output_type": "stream",
     "text": [
      "The number of leading roles (n=1) available from the beginning of film history through 1980 is: 84264\n"
     ]
    }
   ],
   "source": [
    "# Assuming the 'n' and 'year' columns exist in your DataFrame\n",
    "leading_roles_until_1980 = cast[(cast['n'] == 1) & (cast['year'] >= 1980)]\n",
    "\n",
    "# Get the count of leading roles (n=1) available until 1980\n",
    "num_leading_roles_until_1980 = len(leading_roles_until_1980)\n",
    "\n",
    "# Print the result\n",
    "print(f\"The number of leading roles (n=1) available from the beginning of film history through 1980 is: {num_leading_roles_until_1980}\")"
   ]
  },
  {
   "cell_type": "code",
   "execution_count": null,
   "metadata": {},
   "outputs": [],
   "source": []
  },
  {
   "cell_type": "markdown",
   "metadata": {
    "collapsed": true
   },
   "source": [
    "### How many non-leading roles were available through from the beginning of film history through 1980?"
   ]
  },
  {
   "cell_type": "code",
   "execution_count": 64,
   "metadata": {},
   "outputs": [
    {
     "name": "stdout",
     "output_type": "stream",
     "text": [
      "         year                   title   n\n",
      "0        2015          Closet Monster NaN\n",
      "3        2015    Secret in Their Eyes NaN\n",
      "4        2015              Steve Jobs NaN\n",
      "5        2015  Straight Outta Compton NaN\n",
      "6        2015  Straight Outta Compton NaN\n",
      "...       ...                     ...  ..\n",
      "3611197  2017               Svanurinn NaN\n",
      "3611202  2007               Foreldrar NaN\n",
      "3611203  2011                 Rokland NaN\n",
      "3611204  2013                      XL NaN\n",
      "3611211  1999       Bye Bye Blue Bird NaN\n",
      "\n",
      "[945383 rows x 3 columns]\n"
     ]
    }
   ],
   "source": [
    "# Assuming the 'n' and 'year' columns exist in your DataFrame\n",
    "roles_until_1980 = cast[cast['year'] >= 1980]\n",
    "\n",
    "# Filter for null values in the 'n' column\n",
    "null_values_until_1980 = roles_until_1980[roles_until_1980['n'].isnull()]\n",
    "\n",
    "# Display only the null values from the 'n' column\n",
    "print(null_values_until_1980[['year', 'title', 'n']])"
   ]
  },
  {
   "cell_type": "markdown",
   "metadata": {
    "collapsed": true
   },
   "source": [
    "### How many roles through 1980 were minor enough that they did not warrant a numeric \"n\" rank?"
   ]
  },
  {
   "cell_type": "code",
   "execution_count": 65,
   "metadata": {},
   "outputs": [
    {
     "name": "stdout",
     "output_type": "stream",
     "text": [
      "The number of roles through 1980 that were minor enough to not warrant a numeric 'n' rank is: 945383\n"
     ]
    }
   ],
   "source": [
    "# Assuming the 'n' and 'year' columns exist in your DataFrame\n",
    "roles_until_1980 = cast[cast['year'] >= 1980]\n",
    "\n",
    "# Filter for null values in the 'n' column\n",
    "minor_roles_without_n_value = roles_until_1980[roles_until_1980['n'].isnull()]\n",
    "\n",
    "# Get the count of roles without a numeric \"n\" rank through 1980\n",
    "num_minor_roles_without_n_value = len(minor_roles_without_n_value)\n",
    "\n",
    "# Print the result\n",
    "print(f\"The number of roles through 1980 that were minor enough to not warrant a numeric 'n' rank is: {num_minor_roles_without_n_value}\")"
   ]
  },
  {
   "cell_type": "code",
   "execution_count": null,
   "metadata": {},
   "outputs": [],
   "source": []
  }
 ],
 "metadata": {
  "kernelspec": {
   "display_name": "Python 3 (ipykernel)",
   "language": "python",
   "name": "python3"
  },
  "language_info": {
   "codemirror_mode": {
    "name": "ipython",
    "version": 3
   },
   "file_extension": ".py",
   "mimetype": "text/x-python",
   "name": "python",
   "nbconvert_exporter": "python",
   "pygments_lexer": "ipython3",
   "version": "3.11.4"
  }
 },
 "nbformat": 4,
 "nbformat_minor": 1
}
